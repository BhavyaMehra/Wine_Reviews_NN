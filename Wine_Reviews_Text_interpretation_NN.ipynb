{
 "cells": [
  {
   "cell_type": "markdown",
   "id": "090aea7e",
   "metadata": {},
   "source": [
    "# Project Overview\n",
    "\n",
    "This project focuses on classifying wine reviews based on their quality, specifically whether they receive a rating of 90 points or higher. The goal is to build and train machine learning models that can automatically classify wine reviews as either \"high-quality\" or not. The project utilizes a dataset containing wine descriptions, points, prices, and other relevant information.\n",
    "\n",
    "## Key Steps\n",
    "\n",
    "1. **Data Preprocessing**: The dataset is loaded, and unnecessary columns are removed to focus on essential features such as descriptions and labels. The labels are derived from wine ratings, with reviews receiving 90 points or higher considered as \"high-quality.\"\n",
    "\n",
    "2. **Data Splitting**: The dataset is split into training, validation, and test sets to facilitate model training and evaluation.\n",
    "\n",
    "3. **Text Vectorization**: Two different approaches to text processing are explored. The first approach uses pre-trained word embeddings from TensorFlow Hub (nnlm-en-dim50/2), while the second utilizes an LSTM-based neural network. Text vectorization and tokenization are performed to prepare the textual data for modeling.\n",
    "\n",
    "4. **Model Building**: Two distinct models are created. The first model incorporates pre-trained word embeddings, followed by dense layers. The second model uses an LSTM layer for sequence processing. Both models are designed to predict the binary label (high-quality or not) for wine reviews.\n",
    "\n",
    "5. **Model Training and Evaluation**: The models are trained and evaluated on the training and validation datasets. Training progress, including accuracy and loss, is monitored for each model."
   ]
  },
  {
   "cell_type": "code",
   "execution_count": 1,
   "id": "f82e6646",
   "metadata": {},
   "outputs": [],
   "source": [
    "# Importing essential libraries for data manipulation, visualization and modeling\n",
    "\n",
    "import pandas as pd\n",
    "import numpy as np\n",
    "import seaborn as sns\n",
    "import matplotlib.pyplot as plt\n",
    "\n",
    "import tensorflow as tf\n",
    "import tensorflow_hub as hub"
   ]
  },
  {
   "cell_type": "code",
   "execution_count": 2,
   "id": "30ad0a74",
   "metadata": {},
   "outputs": [],
   "source": [
    "# Reading in the dataset\n",
    "\n",
    "df = pd.read_csv('wine-reviews.csv')"
   ]
  },
  {
   "cell_type": "code",
   "execution_count": 3,
   "id": "1a27b114",
   "metadata": {
    "scrolled": false
   },
   "outputs": [
    {
     "data": {
      "text/html": [
       "<div>\n",
       "<style scoped>\n",
       "    .dataframe tbody tr th:only-of-type {\n",
       "        vertical-align: middle;\n",
       "    }\n",
       "\n",
       "    .dataframe tbody tr th {\n",
       "        vertical-align: top;\n",
       "    }\n",
       "\n",
       "    .dataframe thead th {\n",
       "        text-align: right;\n",
       "    }\n",
       "</style>\n",
       "<table border=\"1\" class=\"dataframe\">\n",
       "  <thead>\n",
       "    <tr style=\"text-align: right;\">\n",
       "      <th></th>\n",
       "      <th>Unnamed: 0</th>\n",
       "      <th>country</th>\n",
       "      <th>description</th>\n",
       "      <th>designation</th>\n",
       "      <th>points</th>\n",
       "      <th>price</th>\n",
       "      <th>province</th>\n",
       "      <th>region_1</th>\n",
       "      <th>region_2</th>\n",
       "      <th>taster_name</th>\n",
       "      <th>taster_twitter_handle</th>\n",
       "      <th>title</th>\n",
       "      <th>variety</th>\n",
       "      <th>winery</th>\n",
       "    </tr>\n",
       "  </thead>\n",
       "  <tbody>\n",
       "    <tr>\n",
       "      <th>0</th>\n",
       "      <td>0</td>\n",
       "      <td>Italy</td>\n",
       "      <td>Aromas include tropical fruit, broom, brimston...</td>\n",
       "      <td>Vulkà Bianco</td>\n",
       "      <td>87</td>\n",
       "      <td>NaN</td>\n",
       "      <td>Sicily &amp; Sardinia</td>\n",
       "      <td>Etna</td>\n",
       "      <td>NaN</td>\n",
       "      <td>Kerin O’Keefe</td>\n",
       "      <td>@kerinokeefe</td>\n",
       "      <td>Nicosia 2013 Vulkà Bianco  (Etna)</td>\n",
       "      <td>White Blend</td>\n",
       "      <td>Nicosia</td>\n",
       "    </tr>\n",
       "    <tr>\n",
       "      <th>1</th>\n",
       "      <td>1</td>\n",
       "      <td>Portugal</td>\n",
       "      <td>This is ripe and fruity, a wine that is smooth...</td>\n",
       "      <td>Avidagos</td>\n",
       "      <td>87</td>\n",
       "      <td>15.0</td>\n",
       "      <td>Douro</td>\n",
       "      <td>NaN</td>\n",
       "      <td>NaN</td>\n",
       "      <td>Roger Voss</td>\n",
       "      <td>@vossroger</td>\n",
       "      <td>Quinta dos Avidagos 2011 Avidagos Red (Douro)</td>\n",
       "      <td>Portuguese Red</td>\n",
       "      <td>Quinta dos Avidagos</td>\n",
       "    </tr>\n",
       "    <tr>\n",
       "      <th>2</th>\n",
       "      <td>2</td>\n",
       "      <td>US</td>\n",
       "      <td>Tart and snappy, the flavors of lime flesh and...</td>\n",
       "      <td>NaN</td>\n",
       "      <td>87</td>\n",
       "      <td>14.0</td>\n",
       "      <td>Oregon</td>\n",
       "      <td>Willamette Valley</td>\n",
       "      <td>Willamette Valley</td>\n",
       "      <td>Paul Gregutt</td>\n",
       "      <td>@paulgwine</td>\n",
       "      <td>Rainstorm 2013 Pinot Gris (Willamette Valley)</td>\n",
       "      <td>Pinot Gris</td>\n",
       "      <td>Rainstorm</td>\n",
       "    </tr>\n",
       "    <tr>\n",
       "      <th>3</th>\n",
       "      <td>3</td>\n",
       "      <td>US</td>\n",
       "      <td>Pineapple rind, lemon pith and orange blossom ...</td>\n",
       "      <td>Reserve Late Harvest</td>\n",
       "      <td>87</td>\n",
       "      <td>13.0</td>\n",
       "      <td>Michigan</td>\n",
       "      <td>Lake Michigan Shore</td>\n",
       "      <td>NaN</td>\n",
       "      <td>Alexander Peartree</td>\n",
       "      <td>NaN</td>\n",
       "      <td>St. Julian 2013 Reserve Late Harvest Riesling ...</td>\n",
       "      <td>Riesling</td>\n",
       "      <td>St. Julian</td>\n",
       "    </tr>\n",
       "    <tr>\n",
       "      <th>4</th>\n",
       "      <td>4</td>\n",
       "      <td>US</td>\n",
       "      <td>Much like the regular bottling from 2012, this...</td>\n",
       "      <td>Vintner's Reserve Wild Child Block</td>\n",
       "      <td>87</td>\n",
       "      <td>65.0</td>\n",
       "      <td>Oregon</td>\n",
       "      <td>Willamette Valley</td>\n",
       "      <td>Willamette Valley</td>\n",
       "      <td>Paul Gregutt</td>\n",
       "      <td>@paulgwine</td>\n",
       "      <td>Sweet Cheeks 2012 Vintner's Reserve Wild Child...</td>\n",
       "      <td>Pinot Noir</td>\n",
       "      <td>Sweet Cheeks</td>\n",
       "    </tr>\n",
       "  </tbody>\n",
       "</table>\n",
       "</div>"
      ],
      "text/plain": [
       "   Unnamed: 0   country                                        description  \\\n",
       "0           0     Italy  Aromas include tropical fruit, broom, brimston...   \n",
       "1           1  Portugal  This is ripe and fruity, a wine that is smooth...   \n",
       "2           2        US  Tart and snappy, the flavors of lime flesh and...   \n",
       "3           3        US  Pineapple rind, lemon pith and orange blossom ...   \n",
       "4           4        US  Much like the regular bottling from 2012, this...   \n",
       "\n",
       "                          designation  points  price           province  \\\n",
       "0                        Vulkà Bianco      87    NaN  Sicily & Sardinia   \n",
       "1                            Avidagos      87   15.0              Douro   \n",
       "2                                 NaN      87   14.0             Oregon   \n",
       "3                Reserve Late Harvest      87   13.0           Michigan   \n",
       "4  Vintner's Reserve Wild Child Block      87   65.0             Oregon   \n",
       "\n",
       "              region_1           region_2         taster_name  \\\n",
       "0                 Etna                NaN       Kerin O’Keefe   \n",
       "1                  NaN                NaN          Roger Voss   \n",
       "2    Willamette Valley  Willamette Valley        Paul Gregutt   \n",
       "3  Lake Michigan Shore                NaN  Alexander Peartree   \n",
       "4    Willamette Valley  Willamette Valley        Paul Gregutt   \n",
       "\n",
       "  taster_twitter_handle                                              title  \\\n",
       "0          @kerinokeefe                  Nicosia 2013 Vulkà Bianco  (Etna)   \n",
       "1            @vossroger      Quinta dos Avidagos 2011 Avidagos Red (Douro)   \n",
       "2           @paulgwine       Rainstorm 2013 Pinot Gris (Willamette Valley)   \n",
       "3                   NaN  St. Julian 2013 Reserve Late Harvest Riesling ...   \n",
       "4           @paulgwine   Sweet Cheeks 2012 Vintner's Reserve Wild Child...   \n",
       "\n",
       "          variety               winery  \n",
       "0     White Blend              Nicosia  \n",
       "1  Portuguese Red  Quinta dos Avidagos  \n",
       "2      Pinot Gris            Rainstorm  \n",
       "3        Riesling           St. Julian  \n",
       "4      Pinot Noir         Sweet Cheeks  "
      ]
     },
     "execution_count": 3,
     "metadata": {},
     "output_type": "execute_result"
    }
   ],
   "source": [
    "df.head()"
   ]
  },
  {
   "cell_type": "code",
   "execution_count": 4,
   "id": "2ab2c420",
   "metadata": {},
   "outputs": [
    {
     "data": {
      "text/plain": [
       "(129971, 14)"
      ]
     },
     "execution_count": 4,
     "metadata": {},
     "output_type": "execute_result"
    }
   ],
   "source": [
    "df.shape"
   ]
  },
  {
   "cell_type": "code",
   "execution_count": 5,
   "id": "4a0c6705",
   "metadata": {},
   "outputs": [],
   "source": [
    "df = df[['country', 'description', 'points', 'price', 'variety', 'winery']]"
   ]
  },
  {
   "cell_type": "code",
   "execution_count": 6,
   "id": "150dc44b",
   "metadata": {},
   "outputs": [
    {
     "data": {
      "text/html": [
       "<div>\n",
       "<style scoped>\n",
       "    .dataframe tbody tr th:only-of-type {\n",
       "        vertical-align: middle;\n",
       "    }\n",
       "\n",
       "    .dataframe tbody tr th {\n",
       "        vertical-align: top;\n",
       "    }\n",
       "\n",
       "    .dataframe thead th {\n",
       "        text-align: right;\n",
       "    }\n",
       "</style>\n",
       "<table border=\"1\" class=\"dataframe\">\n",
       "  <thead>\n",
       "    <tr style=\"text-align: right;\">\n",
       "      <th></th>\n",
       "      <th>country</th>\n",
       "      <th>description</th>\n",
       "      <th>points</th>\n",
       "      <th>price</th>\n",
       "      <th>variety</th>\n",
       "      <th>winery</th>\n",
       "    </tr>\n",
       "  </thead>\n",
       "  <tbody>\n",
       "    <tr>\n",
       "      <th>0</th>\n",
       "      <td>Italy</td>\n",
       "      <td>Aromas include tropical fruit, broom, brimston...</td>\n",
       "      <td>87</td>\n",
       "      <td>NaN</td>\n",
       "      <td>White Blend</td>\n",
       "      <td>Nicosia</td>\n",
       "    </tr>\n",
       "    <tr>\n",
       "      <th>1</th>\n",
       "      <td>Portugal</td>\n",
       "      <td>This is ripe and fruity, a wine that is smooth...</td>\n",
       "      <td>87</td>\n",
       "      <td>15.0</td>\n",
       "      <td>Portuguese Red</td>\n",
       "      <td>Quinta dos Avidagos</td>\n",
       "    </tr>\n",
       "    <tr>\n",
       "      <th>2</th>\n",
       "      <td>US</td>\n",
       "      <td>Tart and snappy, the flavors of lime flesh and...</td>\n",
       "      <td>87</td>\n",
       "      <td>14.0</td>\n",
       "      <td>Pinot Gris</td>\n",
       "      <td>Rainstorm</td>\n",
       "    </tr>\n",
       "    <tr>\n",
       "      <th>3</th>\n",
       "      <td>US</td>\n",
       "      <td>Pineapple rind, lemon pith and orange blossom ...</td>\n",
       "      <td>87</td>\n",
       "      <td>13.0</td>\n",
       "      <td>Riesling</td>\n",
       "      <td>St. Julian</td>\n",
       "    </tr>\n",
       "    <tr>\n",
       "      <th>4</th>\n",
       "      <td>US</td>\n",
       "      <td>Much like the regular bottling from 2012, this...</td>\n",
       "      <td>87</td>\n",
       "      <td>65.0</td>\n",
       "      <td>Pinot Noir</td>\n",
       "      <td>Sweet Cheeks</td>\n",
       "    </tr>\n",
       "  </tbody>\n",
       "</table>\n",
       "</div>"
      ],
      "text/plain": [
       "    country                                        description  points  price  \\\n",
       "0     Italy  Aromas include tropical fruit, broom, brimston...      87    NaN   \n",
       "1  Portugal  This is ripe and fruity, a wine that is smooth...      87   15.0   \n",
       "2        US  Tart and snappy, the flavors of lime flesh and...      87   14.0   \n",
       "3        US  Pineapple rind, lemon pith and orange blossom ...      87   13.0   \n",
       "4        US  Much like the regular bottling from 2012, this...      87   65.0   \n",
       "\n",
       "          variety               winery  \n",
       "0     White Blend              Nicosia  \n",
       "1  Portuguese Red  Quinta dos Avidagos  \n",
       "2      Pinot Gris            Rainstorm  \n",
       "3        Riesling           St. Julian  \n",
       "4      Pinot Noir         Sweet Cheeks  "
      ]
     },
     "execution_count": 6,
     "metadata": {},
     "output_type": "execute_result"
    }
   ],
   "source": [
    "df.head()"
   ]
  },
  {
   "cell_type": "code",
   "execution_count": 7,
   "id": "4ab20643",
   "metadata": {},
   "outputs": [
    {
     "data": {
      "image/png": "[encoded data removed]",
      "text/plain": [
       "<Figure size 432x288 with 1 Axes>"
      ]
     },
     "metadata": {
      "needs_background": "light"
     },
     "output_type": "display_data"
    }
   ],
   "source": [
    "# Visualizing the distribution of wine review scores ('points')\n",
    "\n",
    "fig = sns.histplot(data=df, x='points', bins=20)\n",
    "plt.xlabel('Points')\n",
    "plt.show()"
   ]
  },
  {
   "cell_type": "code",
   "execution_count": 8,
   "id": "270bfa3d",
   "metadata": {},
   "outputs": [],
   "source": [
    "# Creating a binary 'label' column based on a condition to be used as the target variable.\n",
    "\n",
    "df['label'] = (df.points >= 90).astype(int)\n",
    "df = df[['description','label']]"
   ]
  },
  {
   "cell_type": "code",
   "execution_count": 9,
   "id": "de5afe11",
   "metadata": {},
   "outputs": [
    {
     "data": {
      "text/html": [
       "<div>\n",
       "<style scoped>\n",
       "    .dataframe tbody tr th:only-of-type {\n",
       "        vertical-align: middle;\n",
       "    }\n",
       "\n",
       "    .dataframe tbody tr th {\n",
       "        vertical-align: top;\n",
       "    }\n",
       "\n",
       "    .dataframe thead th {\n",
       "        text-align: right;\n",
       "    }\n",
       "</style>\n",
       "<table border=\"1\" class=\"dataframe\">\n",
       "  <thead>\n",
       "    <tr style=\"text-align: right;\">\n",
       "      <th></th>\n",
       "      <th>description</th>\n",
       "      <th>label</th>\n",
       "    </tr>\n",
       "  </thead>\n",
       "  <tbody>\n",
       "    <tr>\n",
       "      <th>0</th>\n",
       "      <td>Aromas include tropical fruit, broom, brimston...</td>\n",
       "      <td>0</td>\n",
       "    </tr>\n",
       "    <tr>\n",
       "      <th>1</th>\n",
       "      <td>This is ripe and fruity, a wine that is smooth...</td>\n",
       "      <td>0</td>\n",
       "    </tr>\n",
       "    <tr>\n",
       "      <th>2</th>\n",
       "      <td>Tart and snappy, the flavors of lime flesh and...</td>\n",
       "      <td>0</td>\n",
       "    </tr>\n",
       "    <tr>\n",
       "      <th>3</th>\n",
       "      <td>Pineapple rind, lemon pith and orange blossom ...</td>\n",
       "      <td>0</td>\n",
       "    </tr>\n",
       "    <tr>\n",
       "      <th>4</th>\n",
       "      <td>Much like the regular bottling from 2012, this...</td>\n",
       "      <td>0</td>\n",
       "    </tr>\n",
       "  </tbody>\n",
       "</table>\n",
       "</div>"
      ],
      "text/plain": [
       "                                         description  label\n",
       "0  Aromas include tropical fruit, broom, brimston...      0\n",
       "1  This is ripe and fruity, a wine that is smooth...      0\n",
       "2  Tart and snappy, the flavors of lime flesh and...      0\n",
       "3  Pineapple rind, lemon pith and orange blossom ...      0\n",
       "4  Much like the regular bottling from 2012, this...      0"
      ]
     },
     "execution_count": 9,
     "metadata": {},
     "output_type": "execute_result"
    }
   ],
   "source": [
    "df.head()"
   ]
  },
  {
   "cell_type": "code",
   "execution_count": 10,
   "id": "3d1d7c7a",
   "metadata": {},
   "outputs": [],
   "source": [
    "# Splitting the data\n",
    "\n",
    "train, val, test = np.split(df.sample(frac=1), [int(0.8*len(df)), int(0.9*len(df))])"
   ]
  },
  {
   "cell_type": "code",
   "execution_count": 11,
   "id": "2127d570",
   "metadata": {},
   "outputs": [
    {
     "data": {
      "text/plain": [
       "(103976, 12997, 12998)"
      ]
     },
     "execution_count": 11,
     "metadata": {},
     "output_type": "execute_result"
    }
   ],
   "source": [
    "len(train), len(val), len(test)"
   ]
  },
  {
   "cell_type": "code",
   "execution_count": 12,
   "id": "37bf37d5",
   "metadata": {},
   "outputs": [],
   "source": [
    "def df_to_dataset(dataframe, shuffle=True, batch_size=1024):\n",
    "    \"\"\"\n",
    "    Convert pandas df to TensorFlow dataset\n",
    "    \"\"\"\n",
    "    \n",
    "    df = dataframe.copy()\n",
    "    labels = df.pop('label')\n",
    "    df = df['description']\n",
    "    ds = tf.data.Dataset.from_tensor_slices((df, labels))\n",
    "    if shuffle:\n",
    "        ds = ds.shuffle(buffer_size=len(dataframe))\n",
    "    ds = ds.batch(batch_size)\n",
    "    ds = ds.prefetch(tf.data.AUTOTUNE)\n",
    "    return ds"
   ]
  },
  {
   "cell_type": "code",
   "execution_count": 13,
   "id": "e2c09d1b",
   "metadata": {},
   "outputs": [],
   "source": [
    "# Converting the split dataframes into TensorFlow datasets\n",
    "\n",
    "train_data = df_to_dataset(train)\n",
    "valid_data = df_to_dataset(val)\n",
    "test_data = df_to_dataset(test)"
   ]
  },
  {
   "cell_type": "code",
   "execution_count": 14,
   "id": "de3aacf4",
   "metadata": {},
   "outputs": [
    {
     "data": {
      "text/plain": [
       "(<tf.Tensor: shape=(1024,), dtype=string, numpy=\n",
       " array([b\"While bolder in body and a more brambly and earthy than the 2015, Grafen Neipperg's Trollinger is attractive for its crisp sour cherry and plum flavors. Brisk acidity and soft, feathery tannins linger nicely on the finish. Drink now.\",\n",
       "        b'A small, husband-and-wife project inspired by the late Greg Brown of T-Vine Cellars, who made some mighty fine wines in his day, this wine is waxy in plum and blackberry, fruity yet possessed of equal parts cedar and herb. Full bodied, it retains plenty of acidity, balanced in approach and price.',\n",
       "        b\"This is a fruity, fresh, forward wine that has delicious red berry fruitiness and soft tannins. It's bright and smooth, the structure just lightly supporting the fruit. It's ready to drink.\",\n",
       "        ...,\n",
       "        b'For an inaugural effort, this coastal Pinot Noir is on the money. Dark and slightly charred-smelling on the nose, the wine is not shy. Full, oaky and moderately tannic, it shows roasted plum, char and toasty flavors in front of a brawny, oaky finish. Best from late 2015 through 2017.',\n",
       "        b'Made from Grenache, Syrah and Tempranillo, this wine scores high on the ripeness scale with jammy raspberry and cherry flavors accented with vanilla and sweet bacon. Ready to drink now with umami-based fare like sausage, bacon or ham.',\n",
       "        b'Opens with horsey, leathery aromas that are funky and wild, but are surrounded by solid berry-fruit scents. Picks up steam on the palate, which is easygoing, solidly built and just firm enough. Tastes of blackberry, cola, spice and chocolate, then finishes smooth and creamy.'],\n",
       "       dtype=object)>,\n",
       " <tf.Tensor: shape=(1024,), dtype=int32, numpy=array([0, 1, 0, ..., 1, 0, 0])>)"
      ]
     },
     "execution_count": 14,
     "metadata": {},
     "output_type": "execute_result"
    }
   ],
   "source": [
    "# First batch of train_data\n",
    "\n",
    "list(train_data)[0]"
   ]
  },
  {
   "cell_type": "code",
   "execution_count": 15,
   "id": "d34e8e02",
   "metadata": {},
   "outputs": [
    {
     "name": "stdout",
     "output_type": "stream",
     "text": [
      "Train Batches: 102\n",
      "Valid Batches: 13\n",
      "Test Batches: 13\n"
     ]
    }
   ],
   "source": [
    "train_batches = tf.data.experimental.cardinality(train_data).numpy()\n",
    "valid_batches = tf.data.experimental.cardinality(valid_data).numpy()\n",
    "test_batches = tf.data.experimental.cardinality(test_data).numpy()\n",
    "\n",
    "print(\"Train Batches:\", train_batches)\n",
    "print(\"Valid Batches:\", valid_batches)\n",
    "print(\"Test Batches:\", test_batches)"
   ]
  },
  {
   "cell_type": "markdown",
   "id": "997df274",
   "metadata": {},
   "source": [
    "## Leveraging Text Embedding for Model Construction\n"
   ]
  },
  {
   "cell_type": "code",
   "execution_count": 16,
   "id": "99964fe6",
   "metadata": {},
   "outputs": [],
   "source": [
    "# Initialize a KerasLayer with text embeddings from TensorFlow Hub.\n",
    "\n",
    "embedding = 'https://tfhub.dev/google/nnlm-en-dim50/2'\n",
    "\n",
    "hub_layer = hub.KerasLayer(embedding, dtype=tf.string, trainable=True)"
   ]
  },
  {
   "cell_type": "code",
   "execution_count": 17,
   "id": "09b9346a",
   "metadata": {
    "scrolled": true
   },
   "outputs": [
    {
     "data": {
      "text/plain": [
       "<tf.Tensor: shape=(1024, 50), dtype=float32, numpy=\n",
       "array([[ 0.49141955, -0.08587736,  0.11341967, ..., -0.07416604,\n",
       "        -0.17615455,  0.14057806],\n",
       "       [ 0.47379652, -0.10962442,  0.05096427, ..., -0.09658384,\n",
       "        -0.37303904, -0.01706004],\n",
       "       [ 0.34575176, -0.36578158, -0.10732725, ..., -0.16232002,\n",
       "         0.15332471,  0.16425791],\n",
       "       ...,\n",
       "       [ 0.36813903,  0.05223183,  0.12846713, ..., -0.11695352,\n",
       "        -0.00501289, -0.01595003],\n",
       "       [ 0.60069627, -0.2966222 , -0.00427842, ...,  0.26246175,\n",
       "        -0.00920041, -0.04994629],\n",
       "       [ 0.17683543, -0.38557753, -0.05432156, ...,  0.11989411,\n",
       "        -0.11701676,  0.00459582]], dtype=float32)>"
      ]
     },
     "execution_count": 17,
     "metadata": {},
     "output_type": "execute_result"
    }
   ],
   "source": [
    "# Obtain text embeddings for the first batch of training data.\n",
    "\n",
    "hub_layer(list(train_data)[0][0])"
   ]
  },
  {
   "cell_type": "code",
   "execution_count": 18,
   "id": "2e397d19",
   "metadata": {},
   "outputs": [],
   "source": [
    "# Create a Sequential model with Hub Layer, Dense layers, and Dropout for text classification.\n",
    "\n",
    "model = tf.keras.Sequential()\n",
    "model.add(hub_layer)\n",
    "model.add(tf.keras.layers.Dense(16, activation='relu'))\n",
    "model.add(tf.keras.layers.Dropout(0.4))\n",
    "model.add(tf.keras.layers.Dense(16, activation='relu'))\n",
    "model.add(tf.keras.layers.Dropout(0.4))\n",
    "model.add(tf.keras.layers.Dense(1, activation='sigmoid'))"
   ]
  },
  {
   "cell_type": "code",
   "execution_count": 19,
   "id": "46925d31",
   "metadata": {},
   "outputs": [],
   "source": [
    "# Model Compilation\n",
    "\n",
    "# Compile the neural network model with specific settings:\n",
    "\n",
    "# - Optimizer: Adam optimizer with a learning rate of 0.001\n",
    "# - Loss Function: Binary Cross-Entropy (suitable for binary classification)\n",
    "# - Metrics: Track accuracy during training\n",
    "\n",
    "model.compile(optimizer=tf.keras.optimizers.Adam(learning_rate=0.001),\n",
    "              loss=tf.keras.losses.BinaryCrossentropy(),\n",
    "              metrics=['accuracy'])\n"
   ]
  },
  {
   "cell_type": "code",
   "execution_count": 20,
   "id": "ec9b8987",
   "metadata": {},
   "outputs": [
    {
     "name": "stdout",
     "output_type": "stream",
     "text": [
      "102/102 [==============================] - 2s 9ms/step - loss: 0.6800 - accuracy: 0.6005\n"
     ]
    },
    {
     "data": {
      "text/plain": [
       "[0.6800092458724976, 0.6004847288131714]"
      ]
     },
     "execution_count": 20,
     "metadata": {},
     "output_type": "execute_result"
    }
   ],
   "source": [
    "model.evaluate(train_data)"
   ]
  },
  {
   "cell_type": "code",
   "execution_count": 21,
   "id": "18c9d3cd",
   "metadata": {},
   "outputs": [
    {
     "name": "stdout",
     "output_type": "stream",
     "text": [
      "13/13 [==============================] - 0s 10ms/step - loss: 0.6802 - accuracy: 0.6016\n"
     ]
    },
    {
     "data": {
      "text/plain": [
       "[0.6802445650100708, 0.6016003489494324]"
      ]
     },
     "execution_count": 21,
     "metadata": {},
     "output_type": "execute_result"
    }
   ],
   "source": [
    "model.evaluate(valid_data)"
   ]
  },
  {
   "cell_type": "code",
   "execution_count": 22,
   "id": "e555daf7",
   "metadata": {},
   "outputs": [
    {
     "name": "stdout",
     "output_type": "stream",
     "text": [
      "Epoch 1/5\n",
      "102/102 [==============================] - 70s 676ms/step - loss: 0.6199 - accuracy: 0.6521 - val_loss: 0.4839 - val_accuracy: 0.7783\n",
      "Epoch 2/5\n",
      "102/102 [==============================] - 69s 676ms/step - loss: 0.4616 - accuracy: 0.7936 - val_loss: 0.3944 - val_accuracy: 0.8170\n",
      "Epoch 3/5\n",
      "102/102 [==============================] - 71s 699ms/step - loss: 0.3942 - accuracy: 0.8296 - val_loss: 0.3744 - val_accuracy: 0.8252\n",
      "Epoch 4/5\n",
      "102/102 [==============================] - 68s 669ms/step - loss: 0.3612 - accuracy: 0.8469 - val_loss: 0.3744 - val_accuracy: 0.8273\n",
      "Epoch 5/5\n",
      "102/102 [==============================] - 69s 676ms/step - loss: 0.3346 - accuracy: 0.8577 - val_loss: 0.3756 - val_accuracy: 0.8293\n"
     ]
    }
   ],
   "source": [
    "history = model.fit(train_data, epochs=5, validation_data=valid_data)"
   ]
  },
  {
   "cell_type": "code",
   "execution_count": 23,
   "id": "0f93a9a5",
   "metadata": {
    "scrolled": false
   },
   "outputs": [
    {
     "data": {
      "image/png": "[encoded data removed]",
      "text/plain": [
       "<Figure size 432x288 with 1 Axes>"
      ]
     },
     "metadata": {
      "needs_background": "light"
     },
     "output_type": "display_data"
    }
   ],
   "source": [
    "# Plot model accuracy\n",
    "\n",
    "plt.plot(history.history['accuracy'], label='Training accuracy')\n",
    "plt.plot(history.history['val_accuracy'], label='Validation accuracy')\n",
    "plt.title('Accuracy of model')\n",
    "plt.ylabel('Accuracy')\n",
    "plt.xlabel('Epoch')\n",
    "plt.legend()\n",
    "plt.show()"
   ]
  },
  {
   "cell_type": "markdown",
   "id": "0f97fcf1",
   "metadata": {},
   "source": [
    "### Model Accuracy Analysis\n",
    "\n",
    "In our model training, we observed the following trends in accuracy:\n",
    "\n",
    "- **Training Accuracy**: The training accuracy steadily improved with each epoch, indicating that the model learned to classify text data more accurately as training progressed.\n",
    "\n",
    "- **Validation Accuracy**: On the other hand, the validation accuracy showed a different pattern. While it initially increased, it reached a point where it plateaued or remained relatively stable. This suggests that the model's performance on the validation dataset reached a consistent level and didn't improve significantly after a certain point.\n",
    "\n",
    "Overall, the training accuracy demonstrated the model's ability to learn and adapt to the training data, while the validation accuracy provided insight into its generalization performance on unseen data. The stable validation accuracy indicates that the model achieved a consistent level of accuracy on new text samples but still needs improvement.\n"
   ]
  },
  {
   "cell_type": "code",
   "execution_count": 24,
   "id": "f4e84caf",
   "metadata": {
    "scrolled": true
   },
   "outputs": [
    {
     "data": {
      "image/png": "[encoded data removed]",
      "text/plain": [
       "<Figure size 432x288 with 1 Axes>"
      ]
     },
     "metadata": {
      "needs_background": "light"
     },
     "output_type": "display_data"
    }
   ],
   "source": [
    "# Plot model loss\n",
    "\n",
    "plt.plot(history.history['loss'], label='Training loss')\n",
    "plt.plot(history.history['val_loss'], label='Validation loss')\n",
    "plt.title('Loss of model')\n",
    "plt.ylabel('Loss')\n",
    "plt.xlabel('Epoch')\n",
    "plt.legend()\n",
    "plt.show()"
   ]
  },
  {
   "cell_type": "markdown",
   "id": "78ed631e",
   "metadata": {},
   "source": [
    "### Model Loss Analysis\n",
    "\n",
    "During our model training, we noticed distinct patterns in the loss metrics:\n",
    "\n",
    "- **Training Loss**: The training loss consistently decreased with each epoch, indicating that the model improved its ability to minimize prediction errors on the training data. This behavior demonstrates that the model effectively learned from the training dataset.\n",
    "\n",
    "- **Validation Loss**: In contrast, the validation loss showed a different pattern. Initially, it decreased, aligning with the training loss. However, from the second epoch onwards, the validation loss started to increase. This divergence suggests that the model's performance on the validation dataset deteriorated as training continued.\n",
    "\n",
    "This divergence between training and validation loss after the initial epochs could indicate overfitting, where the model becomes too specialized in fitting the training data and loses its ability to generalize to new data. Further model adjustments and regularization techniques may be necessary to address this issue and enhance model generalization.\n"
   ]
  },
  {
   "cell_type": "code",
   "execution_count": 25,
   "id": "e540e8ce",
   "metadata": {},
   "outputs": [
    {
     "name": "stdout",
     "output_type": "stream",
     "text": [
      "13/13 [==============================] - 1s 46ms/step - loss: 0.3650 - accuracy: 0.8377\n"
     ]
    },
    {
     "data": {
      "text/plain": [
       "[0.36501383781433105, 0.8377442955970764]"
      ]
     },
     "execution_count": 25,
     "metadata": {},
     "output_type": "execute_result"
    }
   ],
   "source": [
    "model.evaluate(test_data)"
   ]
  },
  {
   "cell_type": "markdown",
   "id": "2d9ded41",
   "metadata": {},
   "source": [
    "## Transition to LSTM\n",
    "\n",
    "The divergence observed in the training and validation loss of the previous model suggests potential overfitting. To address this issue and potentially improve model performance, we transitioned to an LSTM (Long Short-Term Memory) model.\n",
    "\n",
    "LSTM is a type of recurrent neural network (RNN) designed to handle sequential data, making it well-suited for tasks involving text data. By using LSTM, we aim to better capture sequential patterns in the text, potentially leading to improved model generalization and performance on both training and validation datasets.\n",
    "\n",
    "The transition to LSTM represents an adjustment in our modeling approach to address the observed divergence and enhance the model's ability to handle text data effectively.\n"
   ]
  },
  {
   "cell_type": "code",
   "execution_count": 26,
   "id": "30512e51",
   "metadata": {},
   "outputs": [],
   "source": [
    "# Text Vectorization Layer\n",
    "\n",
    "# Create a TextVectorization layer with a vocabulary size of 2000 tokens.\n",
    "encoder = tf.keras.layers.TextVectorization(max_tokens=2000)\n",
    "\n",
    "# Adapt the TextVectorization layer to the training data.\n",
    "encoder.adapt(train_data.map(lambda text, label: text))\n"
   ]
  },
  {
   "cell_type": "code",
   "execution_count": 27,
   "id": "283ef2c3",
   "metadata": {},
   "outputs": [
    {
     "data": {
      "text/plain": [
       "array(['', '[UNK]', 'and', 'the', 'a', 'of', 'with', 'this', 'is', 'wine',\n",
       "       'flavors', 'in', 'it', 'to', 'its', 'on', 'fruit', 'aromas',\n",
       "       'palate', 'that'], dtype='<U17')"
      ]
     },
     "execution_count": 27,
     "metadata": {},
     "output_type": "execute_result"
    }
   ],
   "source": [
    "# Vocabulary Extraction\n",
    "\n",
    "# Retrieve the vocabulary learned by the TextVectorization layer and convert it into a NumPy array.\n",
    "vocab = np.array(encoder.get_vocabulary())\n",
    "\n",
    "# Display the first 20 tokens from the vocabulary.\n",
    "vocab[:20]\n"
   ]
  },
  {
   "cell_type": "code",
   "execution_count": 28,
   "id": "79287bb1",
   "metadata": {},
   "outputs": [],
   "source": [
    "# Define a Sequential Model for Text Classification\n",
    "\n",
    "model = tf.keras.Sequential([\n",
    "    encoder,\n",
    "    tf.keras.layers.Embedding(\n",
    "        input_dim=len(encoder.get_vocabulary()),  # Vocabulary size\n",
    "        output_dim=32,                            # Dimension of word embeddings\n",
    "        mask_zero=True                            # Mask zero-padding\n",
    "    ),\n",
    "    tf.keras.layers.LSTM(32),                    # 32 LSTM units\n",
    "    tf.keras.layers.Dense(32, activation='relu'), # 32 units with ReLU activation\n",
    "    tf.keras.layers.Dropout(0.4),                # Dropout rate of 40%\n",
    "    \n",
    "    # Dense Layer (Output Layer): Final binary classification output\n",
    "    tf.keras.layers.Dense(1, activation='sigmoid')\n",
    "])\n"
   ]
  },
  {
   "cell_type": "code",
   "execution_count": 29,
   "id": "488ec5b6",
   "metadata": {},
   "outputs": [],
   "source": [
    "# Model Compilation\n",
    "\n",
    "# Compile the neural network model with specific settings:\n",
    "\n",
    "# - Optimizer: Adam optimizer with a learning rate of 0.001\n",
    "# - Loss Function: Binary Cross-Entropy (suitable for binary classification)\n",
    "# - Metrics: Track accuracy during training\n",
    "\n",
    "model.compile(optimizer=tf.keras.optimizers.Adam(learning_rate=0.001),\n",
    "              loss=tf.keras.losses.BinaryCrossentropy(),\n",
    "              metrics=['accuracy'])\n"
   ]
  },
  {
   "cell_type": "code",
   "execution_count": 30,
   "id": "41644578",
   "metadata": {},
   "outputs": [
    {
     "name": "stdout",
     "output_type": "stream",
     "text": [
      "102/102 [==============================] - 13s 106ms/step - loss: 0.6937 - accuracy: 0.4379\n"
     ]
    },
    {
     "data": {
      "text/plain": [
       "[0.6936674118041992, 0.4379279911518097]"
      ]
     },
     "execution_count": 30,
     "metadata": {},
     "output_type": "execute_result"
    }
   ],
   "source": [
    "model.evaluate(train_data)"
   ]
  },
  {
   "cell_type": "code",
   "execution_count": 31,
   "id": "b02b9c39",
   "metadata": {},
   "outputs": [
    {
     "name": "stdout",
     "output_type": "stream",
     "text": [
      "13/13 [==============================] - 1s 103ms/step - loss: 0.6936 - accuracy: 0.4398\n"
     ]
    },
    {
     "data": {
      "text/plain": [
       "[0.6936389803886414, 0.43979379534721375]"
      ]
     },
     "execution_count": 31,
     "metadata": {},
     "output_type": "execute_result"
    }
   ],
   "source": [
    "model.evaluate(valid_data)"
   ]
  },
  {
   "cell_type": "code",
   "execution_count": 32,
   "id": "d1f0b9e9",
   "metadata": {
    "scrolled": true
   },
   "outputs": [
    {
     "name": "stdout",
     "output_type": "stream",
     "text": [
      "Epoch 1/5\n",
      "102/102 [==============================] - 31s 271ms/step - loss: 0.5439 - accuracy: 0.7124 - val_loss: 0.3766 - val_accuracy: 0.8270\n",
      "Epoch 2/5\n",
      "102/102 [==============================] - 29s 280ms/step - loss: 0.3666 - accuracy: 0.8361 - val_loss: 0.3515 - val_accuracy: 0.8394\n",
      "Epoch 3/5\n",
      "102/102 [==============================] - 29s 282ms/step - loss: 0.3495 - accuracy: 0.8448 - val_loss: 0.3484 - val_accuracy: 0.8376\n",
      "Epoch 4/5\n",
      "102/102 [==============================] - 29s 286ms/step - loss: 0.3410 - accuracy: 0.8484 - val_loss: 0.3503 - val_accuracy: 0.8375\n",
      "Epoch 5/5\n",
      "102/102 [==============================] - 29s 288ms/step - loss: 0.3379 - accuracy: 0.8503 - val_loss: 0.3483 - val_accuracy: 0.8383\n"
     ]
    }
   ],
   "source": [
    "his = model.fit(train_data, epochs=5, validation_data=valid_data)"
   ]
  },
  {
   "cell_type": "code",
   "execution_count": 33,
   "id": "b95731f5",
   "metadata": {
    "scrolled": true
   },
   "outputs": [
    {
     "name": "stdout",
     "output_type": "stream",
     "text": [
      "13/13 [==============================] - 1s 110ms/step - loss: 0.3418 - accuracy: 0.8434\n"
     ]
    },
    {
     "data": {
      "text/plain": [
       "[0.34181442856788635, 0.8433605432510376]"
      ]
     },
     "execution_count": 33,
     "metadata": {},
     "output_type": "execute_result"
    }
   ],
   "source": [
    "model.evaluate(test_data)"
   ]
  },
  {
   "cell_type": "markdown",
   "id": "f24439b9",
   "metadata": {},
   "source": [
    "# Conclusion\n",
    "\n",
    "In conclusion, this project demonstrates the application of machine learning to wine review classification. Two different approaches to text processing and modeling are explored: one leveraging pre-trained word embeddings and the other using an LSTM-based architecture.\n",
    "\n",
    "The models trained in this project exhibit promising performance, with competitive accuracy and loss values where LSTM model performed better than the simpler text embedding based model. The visualizations show how the models evolve during training and their respective accuracies on the validation dataset.\n",
    "\n",
    "However, the evaluation of these models on the test dataset is crucial to assess their real-world performance and generalization capabilities. Additionally, further refinement and hyperparameter tuning may lead to even better results.\n",
    "\n",
    "This project serves as a foundation for building and deploying machine learning models for classification problems, and it can be extended to handle more complex NLP tasks and larger datasets."
   ]
  }
 ],
 "metadata": {
  "kernelspec": {
   "display_name": "Python 3 (ipykernel)",
   "language": "python",
   "name": "python3"
  },
  "language_info": {
   "codemirror_mode": {
    "name": "ipython",
    "version": 3
   },
   "file_extension": ".py",
   "mimetype": "text/x-python",
   "name": "python",
   "nbconvert_exporter": "python",
   "pygments_lexer": "ipython3",
   "version": "3.10.4"
  }
 },
 "nbformat": 4,
 "nbformat_minor": 5
}
